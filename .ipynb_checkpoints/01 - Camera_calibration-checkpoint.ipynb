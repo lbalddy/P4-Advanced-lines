{
 "cells": [
  {
   "cell_type": "code",
   "execution_count": null,
   "metadata": {
    "collapsed": false,
    "deletable": true,
    "editable": true
   },
   "outputs": [],
   "source": [
    "import numpy as np\n",
    "import cv2\n",
    "import glob\n",
    "import matplotlib.pyplot as plt\n",
    "%matplotlib qt\n",
    "\n",
    "# prepare object points, like (0,0,0), (1,0,0), (2,0,0) ....,(6,5,0)\n",
    "objp = np.zeros((6*9,3), np.float32)\n",
    "objp[:,:2] = np.mgrid[0:9, 0:6].T.reshape(-1,2)\n",
    "\n",
    "# Arrays to store object points and image points from all the images.\n",
    "objpoints = [] # 3d points in real world space\n",
    "imgpoints = [] # 2d points in image plane.\n",
    "\n",
    "# Make a list of calibration images\n",
    "images = glob.glob('camera_cal/calibration*.jpg')\n",
    "\n",
    "# Step through the list and search for chessboard corners\n",
    "for idx, fname in enumerate(images):\n",
    "    img = cv2.imread(fname)\n",
    "    gray = cv2.cvtColor(img, cv2.COLOR_BGR2GRAY)\n",
    "\n",
    "    # Find the chessboard corners\n",
    "    ret, corners = cv2.findChessboardCorners(gray, (9,6), None)\n",
    "\n",
    "    # If found, add object points, image points\n",
    "    if ret == True:\n",
    "        objpoints.append(objp)\n",
    "        imgpoints.append(corners)\n",
    "\n",
    "        # Draw and display the corners\n",
    "        cv2.drawChessboardCorners(img, (9,6), corners, ret)\n",
    "        #write_name = 'corners_found'+str(idx)+'.jpg'\n",
    "        #cv2.imwrite(write_name, img)\n",
    "        cv2.imshow('img', img)\n",
    "        cv2.waitKey(500)\n",
    "\n",
    "cv2.destroyAllWindows()"
   ]
  },
  {
   "cell_type": "code",
   "execution_count": null,
   "metadata": {
    "collapsed": false,
    "deletable": true,
    "editable": true
   },
   "outputs": [],
   "source": [
    "print(objp)"
   ]
  },
  {
   "cell_type": "code",
   "execution_count": null,
   "metadata": {
    "collapsed": false,
    "deletable": true,
    "editable": true
   },
   "outputs": [],
   "source": [
    "import pickle\n",
    "%matplotlib inline\n",
    "\n",
    "# Test undistortion on an image\n",
    "img = cv2.imread('camera_cal\\calibration01.jpg')\n"
   ]
  },
  {
   "cell_type": "code",
   "execution_count": null,
   "metadata": {
    "collapsed": false,
    "deletable": true,
    "editable": true
   },
   "outputs": [],
   "source": [
    "img_size = (img.shape[1], img.shape[0])\n",
    "\n",
    "# Do camera calibration given object points and image points\n",
    "ret, mtx, dist, rvecs, tvecs = cv2.calibrateCamera(objpoints, imgpoints, img_size,None,None)"
   ]
  },
  {
   "cell_type": "code",
   "execution_count": null,
   "metadata": {
    "collapsed": false,
    "deletable": true,
    "editable": true
   },
   "outputs": [],
   "source": []
  },
  {
   "cell_type": "code",
   "execution_count": null,
   "metadata": {
    "collapsed": false,
    "deletable": true,
    "editable": true
   },
   "outputs": [],
   "source": [
    "for idx, fname in enumerate(images):\n",
    "    img = cv2.imread(fname)\n",
    "    \n",
    "    dst = cv2.undistort(img, mtx, dist, None, mtx)\n",
    "    a = 'camera_cal/test_undist'+str(idx)+'.jpg'\n",
    "    res = np.hstack((img,dst)) #stacking images side-by-side\n",
    "    cv2.imwrite(a,res)\n",
    "\n",
    "# Save the camera calibration result for later use (we won't worry about rvecs / tvecs)\n",
    "dist_pickle = {}\n",
    "dist_pickle[\"mtx\"] = mtx\n",
    "dist_pickle[\"dist\"] = dist\n",
    "\n",
    "np.save('mtx',mtx)\n",
    "np.save('dist',dist)\n",
    "\n",
    "pickle.dump( dist_pickle, open( \"camera_cal/wide_dist_pickle.p\", \"wb\" ) )\n",
    "#dst = cv2.cvtColor(dst, cv2.COLOR_BGR2RGB)\n",
    "# Visualize undistortion\n",
    "f, (ax1, ax2) = plt.subplots(1, 2, figsize=(20,10))\n",
    "ax1.imshow(img)\n",
    "ax1.set_title('Original Image', fontsize=30)\n",
    "ax2.imshow(dst)\n",
    "ax2.set_title('Undistorted Image', fontsize=30)"
   ]
  },
  {
   "cell_type": "code",
   "execution_count": null,
   "metadata": {
    "collapsed": false,
    "deletable": true,
    "editable": true
   },
   "outputs": [],
   "source": [
    "def undistort_image(img):\n",
    "    dist =  np.load('./assets/dist.npy')\n",
    "    mtx =  np.load('./assets/mtx.npy')\n",
    "    \n",
    "    out = cv2.undistort(img, mtx, dist, None, mtx)\n",
    "    \n",
    "    return out"
   ]
  },
  {
   "cell_type": "code",
   "execution_count": null,
   "metadata": {
    "collapsed": false,
    "deletable": true,
    "editable": true
   },
   "outputs": [],
   "source": [
    "def birds_eye(img):\n",
    "\n",
    "     # Get image dimensions\n",
    "    (h, w) = (img.shape[0], img.shape[1])\n",
    "    # Define source points\n",
    "    src = np.float32([[w // 2 - 76, h * .625], [w // 2 + 76, h * .625], [-100, h], [w + 100, h]])\n",
    "    # Define corresponding destination points\n",
    "    dst = np.float32([[100, 0], [w - 100, 0], [100, h], [w - 100, h]])\n",
    "\n",
    "    M = cv2.getPerspectiveTransform(src, dst)\n",
    "    Minv = cv2.getPerspectiveTransform(dst, src)\n",
    "    \n",
    "    img_size = (img.shape[0],img.shape[1])\n",
    "    \n",
    "    out = cv2.warpPerspective(img, M, (w, h))\n",
    "    \n",
    "    return out"
   ]
  },
  {
   "cell_type": "code",
   "execution_count": null,
   "metadata": {
    "collapsed": false,
    "deletable": true,
    "editable": true
   },
   "outputs": [],
   "source": [
    "def sobelx(img,thresh = (0,255)):\n",
    "  \n",
    "    H,L,S = convert_hls(img)\n",
    "     # Sobel x\n",
    "    sobel_kernel=3\n",
    "    sobelx = np.absolute(cv2.Sobel(S, cv2.CV_64F, 1, 0,ksize=sobel_kernel))\n",
    "    scaled_sobel = np.uint8(255*sobelx/np.max(sobelx))   \n",
    "    \n",
    "     # Threshold x gradient\n",
    "    sxbinary = np.zeros_like(scaled_sobel)\n",
    "    sxbinary[(scaled_sobel >= thresh[0]) & (scaled_sobel <= thresh[1])] = 1\n",
    "    \n",
    "    return sxbinary"
   ]
  },
  {
   "cell_type": "code",
   "execution_count": null,
   "metadata": {
    "collapsed": false,
    "deletable": true,
    "editable": true
   },
   "outputs": [],
   "source": [
    "def sobely(img,thresh = (0,255)):\n",
    "    H,L,S = convert_hls(img)\n",
    "     # Sobel x\n",
    "    sobel_kernel=3\n",
    "    sobelx = np.absolute(cv2.Sobel(H, cv2.CV_64F, 0, 1,ksize=sobel_kernel))\n",
    "    scaled_sobel = np.uint8(255*sobelx/np.max(sobelx))   \n",
    "    \n",
    "     # Threshold x gradient\n",
    "    sxbinary = np.zeros_like(scaled_sobel)\n",
    "    sxbinary[(scaled_sobel >= thresh[0]) & (scaled_sobel <= thresh[1])] = 1\n",
    "    \n",
    "    return sxbinary"
   ]
  },
  {
   "cell_type": "code",
   "execution_count": null,
   "metadata": {
    "collapsed": true,
    "deletable": true,
    "editable": true
   },
   "outputs": [],
   "source": [
    "\n",
    "\n",
    "def dir_threshold(img, sobel_kernel=3, thresh=(0, np.pi/2)):\n",
    "    \n",
    "   # Apply the following steps to img\n",
    "    # 1) Convert to grayscale\n",
    "    H,L,S = convert_hls(img)\n",
    "    # 2) Take the gradient in x and y separately\n",
    "    sobelx = np.absolute(cv2.Sobel(S, cv2.CV_64F, 1, 0,ksize=sobel_kernel))\n",
    "    sobely = np.absolute(cv2.Sobel(S, cv2.CV_64F, 0, 1,ksize=sobel_kernel))\n",
    "    \n",
    "    # 3) Take the absolute value of the x and y gradients\n",
    "    \n",
    "    # 4) Use np.arctan2(abs_sobely, abs_sobelx) to calculate the direction of the gradient \n",
    "    arc_tanh = np.arctan2(sobely,sobelx)\n",
    "    # 5) Create a binary mask where direction thresholds are met\n",
    "    binary_output = np.zeros_like(arc_tanh)\n",
    "    # 6) Return this mask as your binary_output image\n",
    "    binary_output[(arc_tanh >= thresh[0]) & (arc_tanh <= thresh[1])] = 1\n",
    "    return binary_output"
   ]
  },
  {
   "cell_type": "code",
   "execution_count": null,
   "metadata": {
    "collapsed": true,
    "deletable": true,
    "editable": true
   },
   "outputs": [],
   "source": [
    "def gaussian_blur(img, kernel_size = 5):\n",
    "    \"\"\"Applies a Gaussian Noise kernel\"\"\"\n",
    "    return cv2.GaussianBlur(img, (kernel_size, kernel_size), 0)"
   ]
  },
  {
   "cell_type": "code",
   "execution_count": null,
   "metadata": {
    "collapsed": false,
    "deletable": true,
    "editable": true
   },
   "outputs": [],
   "source": [
    "def convert_hls(img):\n",
    "    hls = cv2.cvtColor(img, cv2.COLOR_RGB2HLS)\n",
    "    H = hls[:,:,0]\n",
    "    L = hls[:,:,1]\n",
    "    S = hls[:,:,2]\n",
    "    return H,L,S"
   ]
  },
  {
   "cell_type": "code",
   "execution_count": null,
   "metadata": {
    "collapsed": true,
    "deletable": true,
    "editable": true
   },
   "outputs": [],
   "source": [
    "def schannel_thresh (img,thresh=(20,100)):\n",
    "    \n",
    "    H,L,S = convert_hls(img)\n",
    "    \n",
    "    out = np.zeros_like(S)\n",
    "    out[(S>=thresh[0]) & (S<= thresh[1])] = 1\n",
    "    \n",
    "    return out"
   ]
  },
  {
   "cell_type": "code",
   "execution_count": null,
   "metadata": {
    "collapsed": false,
    "deletable": true,
    "editable": true
   },
   "outputs": [],
   "source": [
    "def process_image(img_o):\n",
    "   \n",
    "    img = gaussian_blur(img_o, kernel_size = 5)  \n",
    "    \n",
    "    thresh  = (30, 100) \n",
    "    thresh_h = (170,255)\n",
    "    thresh_angle=(.6, 1.4)\n",
    "    \n",
    "    undst = undistort_image(img)\n",
    "    #undst = birds_eye(undst)\n",
    "    \n",
    "    outh = schannel_thresh (undst,thresh_h)\n",
    "    outh = np.uint8(255*outh/np.max(outh))\n",
    "    \n",
    "    outx = sobelx(undst,thresh)\n",
    "    outx = np.uint8(255*outx/np.max(outx))\n",
    "    \n",
    "    outy = sobely(undst,thresh)\n",
    "    outy = np.uint8(255*outy/np.max(outy))\n",
    "    \n",
    "    outdir = dir_threshold(undst, sobel_kernel=3, thresh=thresh_angle )\n",
    "    outdir = np.uint8(255*outdir/np.max(outdir))\n",
    "    \n",
    "    out = np.stack((np.zeros_like(outdir),outh,outx),axis = 2)\n",
    "    M = birds_eye(out)\n",
    "    M_img = birds_eye(img)\n",
    "    \n",
    "  \n",
    "    #out = np.hstack((img_o,out))\n",
    "    \n",
    "    #aux = np.hstack((M_img,M))\n",
    "    \n",
    "    \n",
    "    #out = np.vstack((out,aux))\n",
    "    \n",
    "    \n",
    "    #out = cv2.cvtColor(undst, cv2.COLOR_RGB2HLS)\n",
    "    \n",
    "   # hsv = cv2.cvtColor(img, cv2.COLOR_RGB2HLS).astype(np.float)\n",
    "   # l_channel = hsv[:,:,1]\n",
    "   # s_channel = hsv[:,:,2]\n",
    "    \n",
    "    \n",
    "     # Sobel x\n",
    "    #sobel_kernel=3\n",
    "    #sobelx = cv2.Sobel(gray, cv2.CV_64F, 1, 0,ksize=sobel_kernel)\n",
    "    #sobely = cv2.Sobel(gray, cv2.CV_64F, 0, 1,ksize=sobel_kernel)\n",
    "    #abs_sobelxy = np.sqrt(sobelx**2 + sobely**2)\n",
    "    #scaled_sobel = np.uint8(255*abs_sobelxy/np.max(abs_sobelxy))\n",
    "    \n",
    "    # Threshold x gradient\n",
    "    #sxbinary = np.zeros_like(scaled_sobel)\n",
    "    #sxbinary[(scaled_sobel >= sx_thresh[0]) & (scaled_sobel <= sx_thresh[1])] = 255\n",
    "    \n",
    "    # Threshold color channel\n",
    "    #s_binary = np.zeros_like(s_channel)\n",
    "    #s_binary[(s_channel >= s_thresh[0]) & (s_channel <= s_thresh[1])] = 255\n",
    "    # Stack each channel\n",
    "    # Note color_binary[:, :, 0] is all 0s, effectively an all black image. It might\n",
    "    # be beneficial to replace this channel with something else.\n",
    "    #color_binary = np.dstack(( np.zeros_like(sxbinary), sxbinary, s_binary))\n",
    "    # out = np.hstack((img,color_binary))\n",
    "   \n",
    "    \n",
    "    \n",
    "    #out = np.stack((np.zeros_like(out[:,:,2]),np.zeros_like(out[:,:,2]),out[:,:,2]),axis = 2)\n",
    "    \n",
    "    \n",
    "    return out\n",
    "   "
   ]
  },
  {
   "cell_type": "code",
   "execution_count": null,
   "metadata": {
    "collapsed": false,
    "deletable": true,
    "editable": true
   },
   "outputs": [],
   "source": [
    "img_o = cv2.imread('test_images/test2.jpg')\n",
    "#img = undistort_image(img_o)\n",
    "\n",
    "img = process_image(img_o)\n",
    "img = birds_eye(img)\n",
    "img_size = (img.shape[1], img.shape[0])\n",
    "\n",
    "print(img_size)\n",
    "f, (ax1,ax2)= plt.subplots(1, 2, figsize=(20,10))\n",
    "ax1.imshow(img)\n",
    "ax1.set_title('Original Image', fontsize=30)\n",
    "ax2.imshow(img_o)\n",
    "ax2.set_title('Original Image', fontsize=30)"
   ]
  },
  {
   "cell_type": "code",
   "execution_count": null,
   "metadata": {
    "collapsed": false,
    "deletable": true,
    "editable": true
   },
   "outputs": [],
   "source": [
    "# Import everything needed to edit/save/watch video clips\n",
    "from moviepy.editor import VideoFileClip\n",
    "from IPython.display import HTML\n",
    "\n",
    "\n",
    "output = 'output_2.mp4'\n",
    "clip1 = VideoFileClip(\"project_video.mp4\")\n",
    "\n",
    "white_clip = clip1.fl_image(process_image ) #NOTE: this function expects color images!!\n",
    "print(type(white_clip))\n",
    "%time white_clip.write_videofile(output, audio=False)\n"
   ]
  },
  {
   "cell_type": "code",
   "execution_count": null,
   "metadata": {
    "collapsed": false,
    "deletable": true,
    "editable": true
   },
   "outputs": [],
   "source": [
    "\n",
    "HTML(\"\"\"\n",
    "<video width=\"960\" height=\"540\" controls>\n",
    "  <source src=\"{0}\">\n",
    "</video>\n",
    "\"\"\".format(white_clip))"
   ]
  },
  {
   "cell_type": "code",
   "execution_count": null,
   "metadata": {
    "collapsed": true,
    "deletable": true,
    "editable": true
   },
   "outputs": [],
   "source": []
  }
 ],
 "metadata": {
  "kernelspec": {
   "display_name": "Python 3",
   "language": "python",
   "name": "python3"
  },
  "language_info": {
   "codemirror_mode": {
    "name": "ipython",
    "version": 3
   },
   "file_extension": ".py",
   "mimetype": "text/x-python",
   "name": "python",
   "nbconvert_exporter": "python",
   "pygments_lexer": "ipython3",
   "version": "3.5.2"
  },
  "widgets": {
   "state": {},
   "version": "1.1.2"
  }
 },
 "nbformat": 4,
 "nbformat_minor": 2
}
